{
 "cells": [
  {
   "cell_type": "markdown",
   "id": "741b98e0",
   "metadata": {},
   "source": [
    "# Reading (Turn any file into an audiobook)"
   ]
  },
  {
   "cell_type": "code",
   "execution_count": 1,
   "id": "c96cc0c2",
   "metadata": {},
   "outputs": [],
   "source": [
    "import pyttsx3"
   ]
  },
  {
   "cell_type": "code",
   "execution_count": null,
   "id": "71ac9919",
   "metadata": {},
   "outputs": [
    {
     "name": "stdout",
     "output_type": "stream",
     "text": [
      "THE NEW SPEED DEMON CAN RACE FROM 0-200 KM/H IN JUST 5.8 SECONDS\n",
      "By Daniel Rufiange , 2021-06-08\n",
      "We don't talk about exotic cars too often oin here, because that's simply not our mission. However, sometimes you have to make an exception to get a load of what goes on sometimes in the world of super luxury cars.\n",
      "\n",
      "Case in point, a new model just presented by Bugatti. With its 1,577 hp, the Chiron Super Sport stands out as the most insane of the insane machines produced to date by the super car brand.\n",
      "\n",
      "The new model is a variant of the Super Sport 300 version, of which 30 were produced two years ago. You may recall that that monster broke a speed record by hitting 300. Miles per hour, not kilometers; for us Canadians, that means it had a top speed of 482 km/h.\n",
      "\n",
      "Bugatti Chiron Super Sport, three-quarters rear\n",
      "Photo: Bugatti\n",
      "Bugatti Chiron Super Sport, three-quarters rear\n",
      "The new Chiron Super Sport shares almost all of its bodywork with the 300 version, except that according to Bugatti it's conceived to be more comfortable and usable in everyday life. It also has a speed limiter that will prevent it from going over 439 km/h. Not that too many owners will be taking it anywhere near 400 km/h…\n",
      "\n",
      "This Super Sport version gets updated bodywork designed to help it at high speeds. The package it benefits from was designed in collaboration with famed race car chassis manufacturer Dallara. Modifications include a rear axle lengthened by about 10 inches to help keep laminar airflow to the body as long as possible to reduce drag. The exhausts have also been moved from their central position on the regular Chiron to be split in pairs on either side of the large rear diffuser. And there are nine holes at the top of each wing to help relieve pressure from the front wheel arches, among other things.\n",
      "\n",
      "It's a complex masterpiece of automotive design.\n",
      "\n",
      "While the normal Chiron and Chiron Sport “make do” with 1,479 hp, the Super Sport variant has been fitted with a more powerful version of the 8.0L, 4-turbo (4!) W16 engine. This block uses new turbochargers and a revised cylinder head to increase power to 1,577 HP. This version sees its tachometer turn red at 7,100 RPM. The maximum torque of 1180 lb-ft is unchanged from previous versions, but is available over a wider range, from 2000 to 7000 RPM.\n",
      "\n",
      "Bugatti doesn't mention anything about the 0-100 km/h time, maybe because it’s so hard to even measure something so short. However, it does give a 0-300 km/h time of 12.1 seconds. Amazing, really. For the 0-200 km/h, we're talking about 5.8 seconds.\n",
      "\n",
      "Bugatti claims that its Chiron Super Sport is designed to offer stability and refinement at high speeds. The problem is that opportunities to experience those qualities in those conditions will be few and far between for most owners, especially those who are far from the German autobahn network. That leaves tracks with long straightaways.\n",
      "\n",
      "Small detail: the Chiron Super Sport will cost about $3.91 million USD. Deliveries to customers will begin in early 2022.\n"
     ]
    }
   ],
   "source": [
    "with open(\"bugatti.txt\", \"r\", encoding=\"utf8\") as bugatti:\n",
    "    engine = pyttsx3.init()\n",
    "    text = bugatti.read()\n",
    "    print(text)\n",
    "    engine.say(text)\n",
    "    engine.runAndWait()"
   ]
  },
  {
   "cell_type": "markdown",
   "id": "7dea2aee",
   "metadata": {},
   "source": [
    "# Quick Weather Reports"
   ]
  },
  {
   "cell_type": "code",
   "execution_count": 2,
   "id": "e55e2a38",
   "metadata": {},
   "outputs": [
    {
     "name": "stdout",
     "output_type": "stream",
     "text": [
      "Enter Your City :Hyderabad\n",
      "Weather report: Hyderabad\n",
      "\n",
      "  \u001b[38;5;226m   \\  /\u001b[0m       Partly cloudy\n",
      "  \u001b[38;5;226m _ /\"\"\u001b[38;5;250m.-.    \u001b[0m \u001b[38;5;220m+25\u001b[0m(\u001b[38;5;220m26\u001b[0m) °C\u001b[0m     \n",
      "  \u001b[38;5;226m   \\_\u001b[38;5;250m(   ).  \u001b[0m \u001b[1m→\u001b[0m \u001b[38;5;118m6\u001b[0m km/h\u001b[0m       \n",
      "  \u001b[38;5;226m   /\u001b[38;5;250m(___(__) \u001b[0m 6 km\u001b[0m           \n",
      "                0.2 mm\u001b[0m         \n",
      "                                                       ┌─────────────┐                                                       \n",
      "┌──────────────────────────────┬───────────────────────┤  Fri 20 Aug ├───────────────────────┬──────────────────────────────┐\n",
      "│            Morning           │             Noon      └──────┬──────┘     Evening           │             Night            │\n",
      "├──────────────────────────────┼──────────────────────────────┼──────────────────────────────┼──────────────────────────────┤\n",
      "│               Cloudy         │ \u001b[38;5;226m _`/\"\"\u001b[38;5;250m.-.    \u001b[0m Patchy rain po…│ \u001b[38;5;226m _`/\"\"\u001b[38;5;250m.-.    \u001b[0m Patchy rain po…│ \u001b[38;5;226m _`/\"\"\u001b[38;5;250m.-.    \u001b[0m Patchy rain po…│\n",
      "│ \u001b[38;5;250m     .--.    \u001b[0m \u001b[38;5;220m+25\u001b[0m(\u001b[38;5;220m27\u001b[0m) °C\u001b[0m     │ \u001b[38;5;226m  ,\\_\u001b[38;5;250m(   ).  \u001b[0m \u001b[38;5;214m+28\u001b[0m(\u001b[38;5;214m30\u001b[0m) °C\u001b[0m     │ \u001b[38;5;226m  ,\\_\u001b[38;5;250m(   ).  \u001b[0m \u001b[38;5;220m+26\u001b[0m(\u001b[38;5;214m28\u001b[0m) °C\u001b[0m     │ \u001b[38;5;226m  ,\\_\u001b[38;5;250m(   ).  \u001b[0m \u001b[38;5;220m+25\u001b[0m(\u001b[38;5;220m27\u001b[0m) °C\u001b[0m     │\n",
      "│ \u001b[38;5;250m  .-(    ).  \u001b[0m \u001b[1m→\u001b[0m \u001b[38;5;220m19\u001b[0m-\u001b[38;5;214m22\u001b[0m km/h\u001b[0m   │ \u001b[38;5;226m   /\u001b[38;5;250m(___(__) \u001b[0m \u001b[1m→\u001b[0m \u001b[38;5;214m21\u001b[0m-\u001b[38;5;214m23\u001b[0m km/h\u001b[0m   │ \u001b[38;5;226m   /\u001b[38;5;250m(___(__) \u001b[0m \u001b[1m→\u001b[0m \u001b[38;5;226m15\u001b[0m-\u001b[38;5;214m21\u001b[0m km/h\u001b[0m   │ \u001b[38;5;226m   /\u001b[38;5;250m(___(__) \u001b[0m \u001b[1m→\u001b[0m \u001b[38;5;190m11\u001b[0m-\u001b[38;5;220m17\u001b[0m km/h\u001b[0m   │\n",
      "│ \u001b[38;5;250m (___.__)__) \u001b[0m 10 km\u001b[0m          │ \u001b[38;5;111m     ‘ ‘ ‘ ‘ \u001b[0m 10 km\u001b[0m          │ \u001b[38;5;111m     ‘ ‘ ‘ ‘ \u001b[0m 10 km\u001b[0m          │ \u001b[38;5;111m     ‘ ‘ ‘ ‘ \u001b[0m 10 km\u001b[0m          │\n",
      "│               0.0 mm | 0%\u001b[0m    │ \u001b[38;5;111m    ‘ ‘ ‘ ‘  \u001b[0m 0.1 mm | 28%\u001b[0m   │ \u001b[38;5;111m    ‘ ‘ ‘ ‘  \u001b[0m 0.2 mm | 76%\u001b[0m   │ \u001b[38;5;111m    ‘ ‘ ‘ ‘  \u001b[0m 0.1 mm | 66%\u001b[0m   │\n",
      "└──────────────────────────────┴──────────────────────────────┴──────────────────────────────┴──────────────────────────────┘\n",
      "                                                       ┌─────────────┐                                                       \n",
      "┌──────────────────────────────┬───────────────────────┤  Sat 21 Aug ├───────────────────────┬──────────────────────────────┐\n",
      "│            Morning           │             Noon      └──────┬──────┘     Evening           │             Night            │\n",
      "├──────────────────────────────┼──────────────────────────────┼──────────────────────────────┼──────────────────────────────┤\n",
      "│               Cloudy         │ \u001b[38;5;226m _`/\"\"\u001b[38;5;250m.-.    \u001b[0m Light rain sho…│ \u001b[38;5;226m _`/\"\"\u001b[38;5;250m.-.    \u001b[0m Patchy rain po…│               Cloudy         │\n",
      "│ \u001b[38;5;250m     .--.    \u001b[0m \u001b[38;5;226m+24\u001b[0m(\u001b[38;5;220m26\u001b[0m) °C\u001b[0m     │ \u001b[38;5;226m  ,\\_\u001b[38;5;250m(   ).  \u001b[0m \u001b[38;5;220m+25\u001b[0m(\u001b[38;5;220m27\u001b[0m) °C\u001b[0m     │ \u001b[38;5;226m  ,\\_\u001b[38;5;250m(   ).  \u001b[0m \u001b[38;5;226m+24\u001b[0m(\u001b[38;5;220m26\u001b[0m) °C\u001b[0m     │ \u001b[38;5;250m     .--.    \u001b[0m \u001b[38;5;226m+23\u001b[0m(\u001b[38;5;220m25\u001b[0m) °C\u001b[0m     │\n",
      "│ \u001b[38;5;250m  .-(    ).  \u001b[0m \u001b[1m→\u001b[0m \u001b[38;5;190m12\u001b[0m-\u001b[38;5;226m15\u001b[0m km/h\u001b[0m   │ \u001b[38;5;226m   /\u001b[38;5;250m(___(__) \u001b[0m \u001b[1m→\u001b[0m \u001b[38;5;226m13\u001b[0m-\u001b[38;5;220m17\u001b[0m km/h\u001b[0m   │ \u001b[38;5;226m   /\u001b[38;5;250m(___(__) \u001b[0m \u001b[1m↗\u001b[0m \u001b[38;5;220m16\u001b[0m-\u001b[38;5;214m22\u001b[0m km/h\u001b[0m   │ \u001b[38;5;250m  .-(    ).  \u001b[0m \u001b[1m→\u001b[0m \u001b[38;5;190m12\u001b[0m-\u001b[38;5;220m18\u001b[0m km/h\u001b[0m   │\n",
      "│ \u001b[38;5;250m (___.__)__) \u001b[0m 10 km\u001b[0m          │ \u001b[38;5;111m     ‘ ‘ ‘ ‘ \u001b[0m 10 km\u001b[0m          │ \u001b[38;5;111m     ‘ ‘ ‘ ‘ \u001b[0m 10 km\u001b[0m          │ \u001b[38;5;250m (___.__)__) \u001b[0m 10 km\u001b[0m          │\n",
      "│               0.1 mm | 56%\u001b[0m   │ \u001b[38;5;111m    ‘ ‘ ‘ ‘  \u001b[0m 0.2 mm | 21%\u001b[0m   │ \u001b[38;5;111m    ‘ ‘ ‘ ‘  \u001b[0m 0.0 mm | 20%\u001b[0m   │               0.1 mm | 40%\u001b[0m   │\n",
      "└──────────────────────────────┴──────────────────────────────┴──────────────────────────────┴──────────────────────────────┘\n",
      "                                                       ┌─────────────┐                                                       \n",
      "┌──────────────────────────────┬───────────────────────┤  Sun 22 Aug ├───────────────────────┬──────────────────────────────┐\n",
      "│            Morning           │             Noon      └──────┬──────┘     Evening           │             Night            │\n",
      "├──────────────────────────────┼──────────────────────────────┼──────────────────────────────┼──────────────────────────────┤\n",
      "│ \u001b[38;5;226m   \\  /\u001b[0m       Partly cloudy  │ \u001b[38;5;226m _`/\"\"\u001b[38;5;250m.-.    \u001b[0m Patchy rain po…│ \u001b[38;5;226m   \\  /\u001b[0m       Partly cloudy  │ \u001b[38;5;226m   \\  /\u001b[0m       Partly cloudy  │\n",
      "│ \u001b[38;5;226m _ /\"\"\u001b[38;5;250m.-.    \u001b[0m \u001b[38;5;220m+26\u001b[0m(\u001b[38;5;214m28\u001b[0m) °C\u001b[0m     │ \u001b[38;5;226m  ,\\_\u001b[38;5;250m(   ).  \u001b[0m \u001b[38;5;214m+29\u001b[0m(\u001b[38;5;208m31\u001b[0m) °C\u001b[0m     │ \u001b[38;5;226m _ /\"\"\u001b[38;5;250m.-.    \u001b[0m \u001b[38;5;214m+28\u001b[0m(\u001b[38;5;214m30\u001b[0m) °C\u001b[0m     │ \u001b[38;5;226m _ /\"\"\u001b[38;5;250m.-.    \u001b[0m \u001b[38;5;220m+26\u001b[0m(\u001b[38;5;214m28\u001b[0m) °C\u001b[0m     │\n",
      "│ \u001b[38;5;226m   \\_\u001b[38;5;250m(   ).  \u001b[0m \u001b[1m↗\u001b[0m \u001b[38;5;190m11\u001b[0m-\u001b[38;5;226m13\u001b[0m km/h\u001b[0m   │ \u001b[38;5;226m   /\u001b[38;5;250m(___(__) \u001b[0m \u001b[1m↗\u001b[0m \u001b[38;5;226m13\u001b[0m-\u001b[38;5;226m15\u001b[0m km/h\u001b[0m   │ \u001b[38;5;226m   \\_\u001b[38;5;250m(   ).  \u001b[0m \u001b[1m↗\u001b[0m \u001b[38;5;190m12\u001b[0m-\u001b[38;5;220m16\u001b[0m km/h\u001b[0m   │ \u001b[38;5;226m   \\_\u001b[38;5;250m(   ).  \u001b[0m \u001b[1m↗\u001b[0m \u001b[38;5;154m8\u001b[0m-\u001b[38;5;226m13\u001b[0m km/h\u001b[0m    │\n",
      "│ \u001b[38;5;226m   /\u001b[38;5;250m(___(__) \u001b[0m 10 km\u001b[0m          │ \u001b[38;5;111m     ‘ ‘ ‘ ‘ \u001b[0m 10 km\u001b[0m          │ \u001b[38;5;226m   /\u001b[38;5;250m(___(__) \u001b[0m 10 km\u001b[0m          │ \u001b[38;5;226m   /\u001b[38;5;250m(___(__) \u001b[0m 10 km\u001b[0m          │\n",
      "│               0.0 mm | 0%\u001b[0m    │ \u001b[38;5;111m    ‘ ‘ ‘ ‘  \u001b[0m 0.0 mm | 27%\u001b[0m   │               0.0 mm | 0%\u001b[0m    │               0.0 mm | 0%\u001b[0m    │\n",
      "└──────────────────────────────┴──────────────────────────────┴──────────────────────────────┴──────────────────────────────┘\n",
      "Location: Hyderabad, Medak, Telangana, India [17.3616227,78.4747305]\n",
      "\n",
      "Follow \u001b[46m\u001b[30m@igor_chubin\u001b[0m for wttr.in updates\n",
      "\n"
     ]
    }
   ],
   "source": [
    "import sys\n",
    "import requests\n",
    "city = input(\"Enter Your City :\")\n",
    "resp = requests.get(f'https://wttr.in/{city}')  #{sys.argv[1].replace(\" \", \"+\")}'\n",
    "\n",
    "print(resp.text)"
   ]
  },
  {
   "cell_type": "markdown",
   "id": "b9634406",
   "metadata": {},
   "source": [
    "# Converting Currencies"
   ]
  },
  {
   "cell_type": "code",
   "execution_count": 1,
   "id": "c1d9fdba",
   "metadata": {},
   "outputs": [],
   "source": [
    "from currency_converter import CurrencyConverter"
   ]
  },
  {
   "cell_type": "code",
   "execution_count": 11,
   "id": "e9226077",
   "metadata": {},
   "outputs": [],
   "source": [
    "currency = CurrencyConverter()"
   ]
  },
  {
   "cell_type": "code",
   "execution_count": 12,
   "id": "e93bd9bb",
   "metadata": {},
   "outputs": [
    {
     "name": "stdout",
     "output_type": "stream",
     "text": [
      "Enter Your Amount :100\n",
      "Enter From Currency : USD\n",
      "Enter From Currency : INR\n"
     ]
    },
    {
     "data": {
      "text/plain": [
       "7438.226744186047"
      ]
     },
     "execution_count": 12,
     "metadata": {},
     "output_type": "execute_result"
    }
   ],
   "source": [
    "Amount = int(input(\"Enter Your Amount :\"))\n",
    "From = input(\"Enter From Currency : \").upper()\n",
    "To = input(\"Enter From Currency : \").upper()\n",
    "\n",
    "\n",
    "currency.convert(Amount, From, To)"
   ]
  },
  {
   "cell_type": "markdown",
   "id": "9fe0b55d",
   "metadata": {},
   "source": [
    "# Automatically Sorting Your Downloads Folder"
   ]
  },
  {
   "cell_type": "code",
   "execution_count": 1,
   "id": "5fbc1c9e",
   "metadata": {},
   "outputs": [
    {
     "ename": "NameError",
     "evalue": "name 'observer' is not defined",
     "output_type": "error",
     "traceback": [
      "\u001b[1;31m---------------------------------------------------------------------------\u001b[0m",
      "\u001b[1;31mKeyboardInterrupt\u001b[0m                         Traceback (most recent call last)",
      "\u001b[1;32m<ipython-input-1-67515d5d087b>\u001b[0m in \u001b[0;36mDownloadedFileHandler\u001b[1;34m()\u001b[0m\n\u001b[0;32m     39\u001b[0m         \u001b[1;32mwhile\u001b[0m \u001b[1;32mTrue\u001b[0m\u001b[1;33m:\u001b[0m\u001b[1;33m\u001b[0m\u001b[1;33m\u001b[0m\u001b[0m\n\u001b[1;32m---> 40\u001b[1;33m             \u001b[0mtime\u001b[0m\u001b[1;33m.\u001b[0m\u001b[0msleep\u001b[0m\u001b[1;33m(\u001b[0m\u001b[1;36m10\u001b[0m\u001b[1;33m)\u001b[0m\u001b[1;33m\u001b[0m\u001b[1;33m\u001b[0m\u001b[0m\n\u001b[0m\u001b[0;32m     41\u001b[0m \u001b[1;33m\u001b[0m\u001b[0m\n",
      "\u001b[1;31mKeyboardInterrupt\u001b[0m: ",
      "\nDuring handling of the above exception, another exception occurred:\n",
      "\u001b[1;31mNameError\u001b[0m                                 Traceback (most recent call last)",
      "\u001b[1;32m<ipython-input-1-67515d5d087b>\u001b[0m in \u001b[0;36m<module>\u001b[1;34m\u001b[0m\n\u001b[0;32m     14\u001b[0m                                                       '.mp4':'videos','.mp3':'audio','.zip':'bundles'}\n\u001b[0;32m     15\u001b[0m \u001b[1;33m\u001b[0m\u001b[0m\n\u001b[1;32m---> 16\u001b[1;33m \u001b[1;32mclass\u001b[0m \u001b[0mDownloadedFileHandler\u001b[0m\u001b[1;33m(\u001b[0m\u001b[0mFileSystemEventHandler\u001b[0m\u001b[1;33m)\u001b[0m\u001b[1;33m:\u001b[0m\u001b[1;33m\u001b[0m\u001b[1;33m\u001b[0m\u001b[0m\n\u001b[0m\u001b[0;32m     17\u001b[0m \u001b[1;33m\u001b[0m\u001b[0m\n\u001b[0;32m     18\u001b[0m     \u001b[1;32mdef\u001b[0m \u001b[0mon_created\u001b[0m\u001b[1;33m(\u001b[0m\u001b[0mself\u001b[0m\u001b[1;33m,\u001b[0m \u001b[0mevent\u001b[0m\u001b[1;33m)\u001b[0m\u001b[1;33m:\u001b[0m\u001b[1;33m\u001b[0m\u001b[1;33m\u001b[0m\u001b[0m\n",
      "\u001b[1;32m<ipython-input-1-67515d5d087b>\u001b[0m in \u001b[0;36mDownloadedFileHandler\u001b[1;34m()\u001b[0m\n\u001b[0;32m     41\u001b[0m \u001b[1;33m\u001b[0m\u001b[0m\n\u001b[0;32m     42\u001b[0m     \u001b[1;32mexcept\u001b[0m \u001b[0mKeyboardInterrupt\u001b[0m\u001b[1;33m:\u001b[0m\u001b[1;33m\u001b[0m\u001b[1;33m\u001b[0m\u001b[0m\n\u001b[1;32m---> 43\u001b[1;33m         \u001b[0mobserver\u001b[0m\u001b[1;33m.\u001b[0m\u001b[0mstop\u001b[0m\u001b[1;33m(\u001b[0m\u001b[1;33m)\u001b[0m\u001b[1;33m\u001b[0m\u001b[1;33m\u001b[0m\u001b[0m\n\u001b[0m\u001b[0;32m     44\u001b[0m         \u001b[0mobserver\u001b[0m\u001b[1;33m.\u001b[0m\u001b[0mjoin\u001b[0m\u001b[1;33m(\u001b[0m\u001b[1;33m)\u001b[0m\u001b[1;33m\u001b[0m\u001b[1;33m\u001b[0m\u001b[0m\n",
      "\u001b[1;31mNameError\u001b[0m: name 'observer' is not defined"
     ]
    }
   ],
   "source": [
    "import os\n",
    "\n",
    "import time\n",
    "\n",
    "import sys\n",
    "\n",
    "from watchdog.observers import Observer\n",
    "\n",
    "from watchdog.events import FileSystemEventHandler\n",
    "\n",
    "folder_to_monitor = sys.argv[1]\n",
    "\n",
    "file_folder_mapping = {'.png':'images','.jpg':'images','.jpeg':'images','.gif':'images','.pdf':'pdfs',\n",
    "                                                      '.mp4':'videos','.mp3':'audio','.zip':'bundles'}\n",
    "\n",
    "class DownloadedFileHandler(FileSystemEventHandler):\n",
    "\n",
    "    def on_created(self, event):\n",
    "\n",
    "        if any(event.src_path.endswith(x) for x in file_folder_mapping):\n",
    "            parent = os.path.join(os.path.dirname(os.path.abspath(event.src_path)), file_folder_mapping.get(f\".{event.src_path.split('.')[-1]}\"))\n",
    "\n",
    "    if not os.path.exists(parent):\n",
    "\n",
    "        os.makedirs(parent)\n",
    "\n",
    "        os.rename(event.src_path, os.path.join(parent, os.path.basename(event.src_path)))\n",
    "        event_handler = DownloadedFileHandler()\n",
    "\n",
    "        observer = Observer()\n",
    "\n",
    "        observer.schedule(event_handler, folder_to_monitor, recursive=True)\n",
    "\n",
    "        print(\"Monitoring started\")\n",
    "\n",
    "        observer.start()\n",
    "\n",
    "    try:\n",
    "        while True:\n",
    "            time.sleep(10)\n",
    "            \n",
    "    except KeyboardInterrupt:\n",
    "        observer.stop()\n",
    "        observer.join()"
   ]
  },
  {
   "cell_type": "markdown",
   "id": "ba589099",
   "metadata": {},
   "source": [
    "# convert2jpg"
   ]
  },
  {
   "cell_type": "code",
   "execution_count": 1,
   "id": "75c0fb63",
   "metadata": {},
   "outputs": [],
   "source": [
    "import os\n",
    "\n",
    "import sys\n",
    "\n",
    "from PIL import Image"
   ]
  },
  {
   "cell_type": "code",
   "execution_count": 3,
   "id": "45ead065",
   "metadata": {},
   "outputs": [
    {
     "name": "stdout",
     "output_type": "stream",
     "text": [
      "-f not found\n"
     ]
    }
   ],
   "source": [
    "if len(sys.argv) > 1:\n",
    "\n",
    "    if os.path.exists(sys.argv[1]):\n",
    "\n",
    "        im = Image.open(sys.argv[1])\n",
    "\n",
    "        target_name = sys.argv[1] + \".jpg\"\n",
    "\n",
    "        rgb_im = im.convert('RGB')\n",
    "\n",
    "        rgb_im.save(target_name)\n",
    "\n",
    "        print(\"Saved as \" + target_name)\n",
    "\n",
    "    else:\n",
    "\n",
    "        print(sys.argv[1] + \" not found\")\n",
    "\n",
    "else:\n",
    "    print(\"Usage: convert2jpg.py <file>\")"
   ]
  },
  {
   "cell_type": "code",
   "execution_count": 3,
   "id": "6e88cd5f",
   "metadata": {},
   "outputs": [
    {
     "name": "stdout",
     "output_type": "stream",
     "text": [
      "Saved as die6.png.jpg\n"
     ]
    }
   ],
   "source": [
    "!convert2jpg.py die6.png"
   ]
  },
  {
   "cell_type": "markdown",
   "id": "8f823568",
   "metadata": {},
   "source": [
    "# The Morning Setup Scrip"
   ]
  },
  {
   "cell_type": "code",
   "execution_count": 1,
   "id": "03bf4573",
   "metadata": {},
   "outputs": [
    {
     "name": "stdout",
     "output_type": "stream",
     "text": [
      "\u0007\n",
      "\u0007\n",
      "\u0007\n"
     ]
    }
   ],
   "source": [
    "!python -m webbrowser -t \"https://www.google.com\"\n",
    "!python -m webbrowser -t \"https://www.dylanroy.com\"\n",
    "!python -m webbrowser -t \"https://www.usesql.com\""
   ]
  },
  {
   "cell_type": "markdown",
   "id": "1cacc71a",
   "metadata": {},
   "source": [
    "# quickmath"
   ]
  },
  {
   "cell_type": "code",
   "execution_count": 13,
   "id": "40db92dd",
   "metadata": {},
   "outputs": [
    {
     "name": "stdout",
     "output_type": "stream",
     "text": [
      "30.0\n"
     ]
    }
   ],
   "source": [
    "!quickmath.py add 2 10 18"
   ]
  },
  {
   "cell_type": "markdown",
   "id": "21d75c9c",
   "metadata": {},
   "source": [
    "# 8. Search for text in a file or across multiple files"
   ]
  },
  {
   "cell_type": "code",
   "execution_count": null,
   "id": "1164b26c",
   "metadata": {},
   "outputs": [],
   "source": []
  },
  {
   "cell_type": "markdown",
   "id": "976007ff",
   "metadata": {},
   "source": [
    "# 9. Create, update, move, and rename files and folders"
   ]
  },
  {
   "cell_type": "code",
   "execution_count": 14,
   "id": "1797bbbe",
   "metadata": {},
   "outputs": [],
   "source": [
    "import os"
   ]
  },
  {
   "cell_type": "code",
   "execution_count": 15,
   "id": "7534252e",
   "metadata": {},
   "outputs": [],
   "source": [
    "os.mkdir(\"Create_folder\")"
   ]
  },
  {
   "cell_type": "code",
   "execution_count": 17,
   "id": "757202ad",
   "metadata": {
    "scrolled": true
   },
   "outputs": [
    {
     "data": {
      "text/plain": [
       "['DirEntry',\n",
       " 'F_OK',\n",
       " 'MutableMapping',\n",
       " 'O_APPEND',\n",
       " 'O_BINARY',\n",
       " 'O_CREAT',\n",
       " 'O_EXCL',\n",
       " 'O_NOINHERIT',\n",
       " 'O_RANDOM',\n",
       " 'O_RDONLY',\n",
       " 'O_RDWR',\n",
       " 'O_SEQUENTIAL',\n",
       " 'O_SHORT_LIVED',\n",
       " 'O_TEMPORARY',\n",
       " 'O_TEXT',\n",
       " 'O_TRUNC',\n",
       " 'O_WRONLY',\n",
       " 'P_DETACH',\n",
       " 'P_NOWAIT',\n",
       " 'P_NOWAITO',\n",
       " 'P_OVERLAY',\n",
       " 'P_WAIT',\n",
       " 'PathLike',\n",
       " 'R_OK',\n",
       " 'SEEK_CUR',\n",
       " 'SEEK_END',\n",
       " 'SEEK_SET',\n",
       " 'TMP_MAX',\n",
       " 'W_OK',\n",
       " 'X_OK',\n",
       " '_AddedDllDirectory',\n",
       " '_Environ',\n",
       " '__all__',\n",
       " '__builtins__',\n",
       " '__cached__',\n",
       " '__doc__',\n",
       " '__file__',\n",
       " '__loader__',\n",
       " '__name__',\n",
       " '__package__',\n",
       " '__spec__',\n",
       " '_check_methods',\n",
       " '_execvpe',\n",
       " '_exists',\n",
       " '_exit',\n",
       " '_fspath',\n",
       " '_get_exports_list',\n",
       " '_putenv',\n",
       " '_unsetenv',\n",
       " '_wrap_close',\n",
       " 'abc',\n",
       " 'abort',\n",
       " 'access',\n",
       " 'add_dll_directory',\n",
       " 'altsep',\n",
       " 'chdir',\n",
       " 'chmod',\n",
       " 'close',\n",
       " 'closerange',\n",
       " 'cpu_count',\n",
       " 'curdir',\n",
       " 'defpath',\n",
       " 'device_encoding',\n",
       " 'devnull',\n",
       " 'dup',\n",
       " 'dup2',\n",
       " 'environ',\n",
       " 'error',\n",
       " 'execl',\n",
       " 'execle',\n",
       " 'execlp',\n",
       " 'execlpe',\n",
       " 'execv',\n",
       " 'execve',\n",
       " 'execvp',\n",
       " 'execvpe',\n",
       " 'extsep',\n",
       " 'fdopen',\n",
       " 'fsdecode',\n",
       " 'fsencode',\n",
       " 'fspath',\n",
       " 'fstat',\n",
       " 'fsync',\n",
       " 'ftruncate',\n",
       " 'get_exec_path',\n",
       " 'get_handle_inheritable',\n",
       " 'get_inheritable',\n",
       " 'get_terminal_size',\n",
       " 'getcwd',\n",
       " 'getcwdb',\n",
       " 'getenv',\n",
       " 'getlogin',\n",
       " 'getpid',\n",
       " 'getppid',\n",
       " 'isatty',\n",
       " 'kill',\n",
       " 'linesep',\n",
       " 'link',\n",
       " 'listdir',\n",
       " 'lseek',\n",
       " 'lstat',\n",
       " 'makedirs',\n",
       " 'mkdir',\n",
       " 'name',\n",
       " 'open',\n",
       " 'pardir',\n",
       " 'path',\n",
       " 'pathsep',\n",
       " 'pipe',\n",
       " 'popen',\n",
       " 'putenv',\n",
       " 'read',\n",
       " 'readlink',\n",
       " 'remove',\n",
       " 'removedirs',\n",
       " 'rename',\n",
       " 'renames',\n",
       " 'replace',\n",
       " 'rmdir',\n",
       " 'scandir',\n",
       " 'sep',\n",
       " 'set_handle_inheritable',\n",
       " 'set_inheritable',\n",
       " 'spawnl',\n",
       " 'spawnle',\n",
       " 'spawnv',\n",
       " 'spawnve',\n",
       " 'st',\n",
       " 'startfile',\n",
       " 'stat',\n",
       " 'stat_result',\n",
       " 'statvfs_result',\n",
       " 'strerror',\n",
       " 'supports_bytes_environ',\n",
       " 'supports_dir_fd',\n",
       " 'supports_effective_ids',\n",
       " 'supports_fd',\n",
       " 'supports_follow_symlinks',\n",
       " 'symlink',\n",
       " 'sys',\n",
       " 'system',\n",
       " 'terminal_size',\n",
       " 'times',\n",
       " 'times_result',\n",
       " 'truncate',\n",
       " 'umask',\n",
       " 'uname_result',\n",
       " 'unlink',\n",
       " 'urandom',\n",
       " 'utime',\n",
       " 'waitpid',\n",
       " 'walk',\n",
       " 'write']"
      ]
     },
     "execution_count": 17,
     "metadata": {},
     "output_type": "execute_result"
    }
   ],
   "source": [
    "dir(os)"
   ]
  },
  {
   "cell_type": "code",
   "execution_count": 24,
   "id": "04bcc75e",
   "metadata": {},
   "outputs": [
    {
     "ename": "NameError",
     "evalue": "name 'pwd' is not defined",
     "output_type": "error",
     "traceback": [
      "\u001b[1;31m---------------------------------------------------------------------------\u001b[0m",
      "\u001b[1;31mNameError\u001b[0m                                 Traceback (most recent call last)",
      "\u001b[1;32m<ipython-input-24-80f50ab7a1fa>\u001b[0m in \u001b[0;36m<module>\u001b[1;34m\u001b[0m\n\u001b[1;32m----> 1\u001b[1;33m \u001b[0mpath\u001b[0m \u001b[1;33m=\u001b[0m \u001b[0mpwd\u001b[0m\u001b[1;33m\u001b[0m\u001b[1;33m\u001b[0m\u001b[0m\n\u001b[0m\u001b[0;32m      2\u001b[0m \u001b[0mopen\u001b[0m\u001b[1;33m(\u001b[0m\u001b[0mpath\u001b[0m\u001b[1;33m,\u001b[0m \u001b[1;34m'a'\u001b[0m\u001b[1;33m)\u001b[0m\u001b[1;33m.\u001b[0m\u001b[0mclose\u001b[0m\u001b[1;33m(\u001b[0m\u001b[1;33m)\u001b[0m\u001b[1;33m\u001b[0m\u001b[1;33m\u001b[0m\u001b[0m\n",
      "\u001b[1;31mNameError\u001b[0m: name 'pwd' is not defined"
     ]
    }
   ],
   "source": [
    "path = pwd\n",
    "open(path, 'a').close()"
   ]
  },
  {
   "cell_type": "code",
   "execution_count": 20,
   "id": "6b173e9a",
   "metadata": {},
   "outputs": [
    {
     "data": {
      "text/plain": [
       "'C:\\\\Users\\\\sm21183\\\\Ojas_Python\\\\POC\\\\13_POC'"
      ]
     },
     "execution_count": 20,
     "metadata": {},
     "output_type": "execute_result"
    }
   ],
   "source": [
    "pwd"
   ]
  },
  {
   "cell_type": "code",
   "execution_count": 25,
   "id": "bcb38aff",
   "metadata": {},
   "outputs": [
    {
     "name": "stdout",
     "output_type": "stream",
     "text": [
      "Help on built-in function rename in module nt:\n",
      "\n",
      "rename(src, dst, *, src_dir_fd=None, dst_dir_fd=None)\n",
      "    Rename a file or directory.\n",
      "    \n",
      "    If either src_dir_fd or dst_dir_fd is not None, it should be a file\n",
      "      descriptor open to a directory, and the respective path string (src or dst)\n",
      "      should be relative; the path will then be relative to that directory.\n",
      "    src_dir_fd and dst_dir_fd, may not be implemented on your platform.\n",
      "      If they are unavailable, using them will raise a NotImplementedError.\n",
      "\n"
     ]
    }
   ],
   "source": [
    "help(os.rename)"
   ]
  },
  {
   "cell_type": "markdown",
   "id": "53e4534e",
   "metadata": {},
   "source": [
    "# 12. Split, merge, watermark, and encrypt PDFs"
   ]
  },
  {
   "cell_type": "code",
   "execution_count": 2,
   "id": "c755f4e3",
   "metadata": {},
   "outputs": [
    {
     "name": "stdout",
     "output_type": "stream",
     "text": [
      "\n",
      "    Information about reportlab-sample.pdf: \n",
      "\n",
      "    Author: Abhishek Thakur\n",
      "    Creator: Word\n",
      "    Producer: macOS Version 11.4 (Build 20F71) Quartz PDFContext\n",
      "    Subject: None\n",
      "    Title: Approaching (Almost) Any Machine Learning Problem\n",
      "    Number of pages: 300\n",
      "    \n"
     ]
    }
   ],
   "source": [
    "from PyPDF2 import PdfFileReader\n",
    "\n",
    "def extract_information(pdf_path):\n",
    "    with open(\"ML.pdf\", 'rb') as f:\n",
    "        pdf = PdfFileReader(f)\n",
    "        information = pdf.getDocumentInfo()\n",
    "        number_of_pages = pdf.getNumPages()\n",
    "\n",
    "    txt = f\"\"\"\n",
    "    Information about {pdf_path}: \n",
    "\n",
    "    Author: {information.author}\n",
    "    Creator: {information.creator}\n",
    "    Producer: {information.producer}\n",
    "    Subject: {information.subject}\n",
    "    Title: {information.title}\n",
    "    Number of pages: {number_of_pages}\n",
    "    \"\"\"\n",
    "\n",
    "    print(txt)\n",
    "    return information\n",
    "\n",
    "if __name__ == '__main__':\n",
    "    path = 'reportlab-sample.pdf'\n",
    "    extract_information(path)"
   ]
  },
  {
   "cell_type": "code",
   "execution_count": 5,
   "id": "4340d881",
   "metadata": {},
   "outputs": [],
   "source": [
    "# rotate_pages.py\n",
    "\n",
    "from PyPDF2 import PdfFileReader, PdfFileWriter\n",
    "\n",
    "def rotate_pages(pdf_path):\n",
    "    pdf_writer = PdfFileWriter()\n",
    "    pdf_reader = PdfFileReader(pdf_path)\n",
    "    # Rotate page 90 degrees to the right\n",
    "    page_1 = pdf_reader.getPage(0).rotateClockwise(90)\n",
    "    pdf_writer.addPage(page_1)\n",
    "    # Rotate page 90 degrees to the left\n",
    "    page_2 = pdf_reader.getPage(1).rotateCounterClockwise(90)\n",
    "    pdf_writer.addPage(page_2)\n",
    "    # Add a page in normal orientation\n",
    "    pdf_writer.addPage(pdf_reader.getPage(2))\n",
    "\n",
    "    with open('new.pdf', 'wb') as fh:\n",
    "        pdf_writer.write(fh)\n",
    "\n",
    "if __name__ == '__main__':\n",
    "    path = 'ML.pdf'\n",
    "    rotate_pages(path)"
   ]
  },
  {
   "cell_type": "code",
   "execution_count": 8,
   "id": "908870db",
   "metadata": {},
   "outputs": [],
   "source": [
    "# pdf_merging.py\n",
    "\n",
    "from PyPDF2 import PdfFileReader, PdfFileWriter\n",
    "\n",
    "def merge_pdfs(paths, output):\n",
    "    pdf_writer = PdfFileWriter()\n",
    "\n",
    "    for path in paths:\n",
    "        pdf_reader = PdfFileReader(path)\n",
    "        for page in range(pdf_reader.getNumPages()):\n",
    "            # Add each page to the writer object\n",
    "            pdf_writer.addPage(pdf_reader.getPage(page))\n",
    "\n",
    "    # Write out the merged PDF\n",
    "    with open(output, 'wb') as out:\n",
    "        pdf_writer.write(out)\n",
    "\n",
    "if __name__ == '__main__':\n",
    "    paths = ['ML.pdf', 'ml1.pdf']\n",
    "    merge_pdfs(paths, output='merged.pdf')"
   ]
  },
  {
   "cell_type": "code",
   "execution_count": 10,
   "id": "f0dff963",
   "metadata": {},
   "outputs": [],
   "source": [
    "# pdf_splitting.py\n",
    "\n",
    "from PyPDF2 import PdfFileReader, PdfFileWriter\n",
    "\n",
    "def split(path, name_of_split):\n",
    "    pdf = PdfFileReader(path)\n",
    "    for page in range(pdf.getNumPages()):\n",
    "        pdf_writer = PdfFileWriter()\n",
    "        pdf_writer.addPage(pdf.getPage(page))\n",
    "\n",
    "        output = f'{name_of_split}{page}.pdf'\n",
    "        with open(output, 'wb') as output_pdf:\n",
    "            pdf_writer.write(output_pdf)\n",
    "\n",
    "if __name__ == '__main__':\n",
    "    path = 'ml1.pdf'\n",
    "    split(path, 'jupyter_page')"
   ]
  },
  {
   "cell_type": "code",
   "execution_count": null,
   "id": "f8ccdae0",
   "metadata": {},
   "outputs": [],
   "source": [
    "# pdf_watermarker.py\n",
    "\n",
    "from PyPDF2 import PdfFileWriter, PdfFileReader\n",
    "\n",
    "def create_watermark(input_pdf, output, watermark):\n",
    "    watermark_obj = PdfFileReader(watermark)\n",
    "    watermark_page = watermark_obj.getPage(0)\n",
    "\n",
    "    pdf_reader = PdfFileReader(input_pdf)\n",
    "    pdf_writer = PdfFileWriter()\n",
    "\n",
    "    # Watermark all the pages\n",
    "    for page in range(pdf_reader.getNumPages()):\n",
    "        page = pdf_reader.getPage(page)\n",
    "        page.mergePage(watermark_page)\n",
    "        pdf_writer.addPage(page)\n",
    "\n",
    "    with open(output, 'wb') as out:\n",
    "        pdf_writer.write(out)\n",
    "\n",
    "if __name__ == '__main__':\n",
    "    create_watermark(\n",
    "        input_pdf='Jupyter_Notebook_An_Introduction.pdf', \n",
    "        output='watermarked_notebook.pdf',\n",
    "        watermark='watermark.pdf')"
   ]
  },
  {
   "cell_type": "code",
   "execution_count": 11,
   "id": "f241ea04",
   "metadata": {},
   "outputs": [],
   "source": [
    "# pdf_encrypt.py\n",
    "\n",
    "from PyPDF2 import PdfFileWriter, PdfFileReader\n",
    "\n",
    "def add_encryption(input_pdf, output_pdf, password):\n",
    "    pdf_writer = PdfFileWriter()\n",
    "    pdf_reader = PdfFileReader(input_pdf)\n",
    "\n",
    "    for page in range(pdf_reader.getNumPages()):\n",
    "        pdf_writer.addPage(pdf_reader.getPage(page))\n",
    "\n",
    "    pdf_writer.encrypt(user_pwd=password, owner_pwd=None, \n",
    "                       use_128bit=True)\n",
    "\n",
    "    with open(output_pdf, 'wb') as fh:\n",
    "        pdf_writer.write(fh)\n",
    "\n",
    "if __name__ == '__main__':\n",
    "    add_encryption(input_pdf='ML.pdf',\n",
    "                   output_pdf='reportlab-encrypted.pdf',\n",
    "                   password='twofish')"
   ]
  },
  {
   "cell_type": "code",
   "execution_count": null,
   "id": "67530ea3",
   "metadata": {},
   "outputs": [],
   "source": []
  }
 ],
 "metadata": {
  "kernelspec": {
   "display_name": "Python 3",
   "language": "python",
   "name": "python3"
  },
  "language_info": {
   "codemirror_mode": {
    "name": "ipython",
    "version": 3
   },
   "file_extension": ".py",
   "mimetype": "text/x-python",
   "name": "python",
   "nbconvert_exporter": "python",
   "pygments_lexer": "ipython3",
   "version": "3.8.11"
  }
 },
 "nbformat": 4,
 "nbformat_minor": 5
}
